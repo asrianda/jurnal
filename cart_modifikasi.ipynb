{
  "nbformat": 4,
  "nbformat_minor": 0,
  "metadata": {
    "colab": {
      "provenance": [],
      "authorship_tag": "ABX9TyPn/ZBG4Rv8OfZmOz/uJn8k",
      "include_colab_link": true
    },
    "kernelspec": {
      "name": "python3",
      "display_name": "Python 3"
    },
    "language_info": {
      "name": "python"
    }
  },
  "cells": [
    {
      "cell_type": "markdown",
      "metadata": {
        "id": "view-in-github",
        "colab_type": "text"
      },
      "source": [
        "<a href=\"https://colab.research.google.com/github/asrianda/jurnal/blob/main/cart_modifikasi.ipynb\" target=\"_parent\"><img src=\"https://colab.research.google.com/assets/colab-badge.svg\" alt=\"Open In Colab\"/></a>"
      ]
    },
    {
      "cell_type": "code",
      "execution_count": null,
      "metadata": {
        "colab": {
          "base_uri": "https://localhost:8080/"
        },
        "id": "Th-YxvXa6rhz",
        "outputId": "f2967eb5-83db-4d0c-85d0-3d5ffccd7bd1"
      },
      "outputs": [
        {
          "output_type": "stream",
          "name": "stdout",
          "text": [
            "Gini Index Subset Left: 0.420\n",
            "Gini Index Subset Right: 0.320\n",
            "Gini Split: 0.360\n"
          ]
        }
      ],
      "source": [
        "def gini_index(p):\n",
        "    \"\"\"\n",
        "    Menghitung indeks Gini untuk sebuah node dengan dua kelas.\n",
        "\n",
        "    Args:\n",
        "    p (float): Proporsi kelas A dalam node.\n",
        "\n",
        "    Returns:\n",
        "    float: Nilai indeks Gini.\n",
        "    \"\"\"\n",
        "    return 2 * p * (1 - p)\n",
        "\n",
        "def gini_split(n_left, p_left, n_right, p_right):\n",
        "    \"\"\"\n",
        "    Menghitung Gini Split untuk pembagian data menjadi dua subset.\n",
        "\n",
        "    Args:\n",
        "    n_left (int): Jumlah data dalam subset left.\n",
        "    p_left (float): Proporsi kelas A dalam subset left.\n",
        "    n_right (int): Jumlah data dalam subset right.\n",
        "    p_right (float): Proporsi kelas A dalam subset right.\n",
        "\n",
        "    Returns:\n",
        "    float: Nilai Gini Split.\n",
        "    \"\"\"\n",
        "    total = n_left + n_right\n",
        "    gini_left = gini_index(p_left)\n",
        "    gini_right = gini_index(p_right)\n",
        "    gini_split_value = (n_left / total) * gini_left + (n_right / total) * gini_right\n",
        "    return gini_split_value\n",
        "\n",
        "# Contoh data:\n",
        "n_left = 40\n",
        "p_left = 0.3\n",
        "n_right = 60\n",
        "p_right = 0.8\n",
        "\n",
        "# Hitung Gini Index untuk masing-masing subset:\n",
        "gini_left = gini_index(p_left)\n",
        "gini_right = gini_index(p_right)\n",
        "\n",
        "# Hitung Gini Split:\n",
        "gini_split_value = gini_split(n_left, p_left, n_right, p_right)\n",
        "\n",
        "print(f\"Gini Index Subset Left: {gini_left:.3f}\")\n",
        "print(f\"Gini Index Subset Right: {gini_right:.3f}\")\n",
        "print(f\"Gini Split: {gini_split_value:.3f}\")\n"
      ]
    }
  ]
}